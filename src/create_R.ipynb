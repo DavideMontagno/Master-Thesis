{
 "cells": [
  {
   "cell_type": "code",
   "execution_count": 2,
   "metadata": {},
   "outputs": [],
   "source": [
    "import skmob\n",
    "from skmob.tessellation import tilers\n",
    "import pandas as pd\n",
    "from skmob.preprocessing import filtering,  detection, clustering\n",
    "from skmob.measures.individual import location_frequency\n",
    "from skmob.measures.collective import mean_square_displacement, visits_per_location\n",
    "import os\n",
    "import matplotlib.pyplot as plt\n",
    "from shapely.geometry import Point\n",
    "from pyproj import Transformer\n",
    "from shapely.ops import transform\n",
    "import numpy as np\n",
    "from math import sin, cos, sqrt, atan2, radians, floor, ceil\n",
    "import geopandas as gpd"
   ]
  },
  {
   "cell_type": "code",
   "execution_count": 4,
   "metadata": {},
   "outputs": [
    {
     "name": "stdout",
     "output_type": "stream",
     "text": [
      "(37661, 9)\n",
      "Index(['users', 'work_1', 'work_2', 'work_3', 'center_lat', 'center_lon',\n",
      "       'row', 'col', 'date'],\n",
      "      dtype='object')\n"
     ]
    }
   ],
   "source": [
    "name_dataset=\"../dataset/qgis_2_1h.csv\"\n",
    "#READ DATASET\n",
    "users=[]\n",
    "\n",
    "\n",
    "\n",
    "def add_row(df,element):\n",
    "    df = pd.concat([df, pd.DataFrame.from_records([element])])\n",
    "    return df\n",
    "    \n",
    "\n",
    "def read_dataset(path):\n",
    "    url = skmob.utils.constants.GEOLIFE_SAMPLE\n",
    "    df = pd.read_csv(path, sep=',')\n",
    "    \n",
    "    return df\n",
    "\n",
    "qgis = read_dataset(name_dataset)\n",
    "qgis = qgis.drop(columns=['Unnamed: 0'])\n",
    "print(qgis.shape)\n",
    "print(qgis.keys())\n"
   ]
  },
  {
   "cell_type": "code",
   "execution_count": 5,
   "metadata": {},
   "outputs": [
    {
     "name": "stdout",
     "output_type": "stream",
     "text": [
      "   users  work_1  work_2  work_3  center_lat  center_lon  row  col  \\\n",
      "0      1       2       3       4   40.079001  117.102987   30    0   \n",
      "\n",
      "                  date  Gb/s  \n",
      "0  2008-07-20 19:00:00   570  \n",
      "37661 25460\n"
     ]
    }
   ],
   "source": [
    "# GENERO TRAFFICO\n",
    "low=10\n",
    "mid=50\n",
    "high=100\n",
    "\n",
    "\n",
    "def get_total(a, b, c):\n",
    "    return a*low + b*mid + c*high\n",
    "\n",
    "#qgis = work_cell(qgis, 10,50,100) # 0:10Gb/s, 50Gb/s, 100Gb/s\n",
    "qgis['Mb/s'] = qgis.apply(lambda row : get_total(row['work_1'], row['work_2'], row['work_3']), axis = 1)\n",
    "print(qgis.head(1))\n",
    "considered = 0 \n",
    "threshold = 500\n",
    "qgis_th = qgis[qgis[\"Mb/s\"]>=threshold]\n",
    "print(len(qgis),len(qgis_th))"
   ]
  },
  {
   "cell_type": "code",
   "execution_count": 23,
   "metadata": {},
   "outputs": [
    {
     "name": "stdout",
     "output_type": "stream",
     "text": [
      "23.302599999999998\n",
      "27.7242\n",
      "26.4192\n",
      "21.471999999999998\n",
      "[[95.0, 91.0], [95.0, 74.0], [95.0, 95.0, 63.65], [95.0, 86.0, 54.18], [95.0, 78.0, 51.480000000000004], [95.0, 74.0, 49.58, 25.781599999999997], [95.0, 82.0, 56.58, 29.9874], [95.0, 86.0, 55.04, 29.1712], [95.0, 80.0, 48.8, 26.352]]\n",
      "9\n"
     ]
    }
   ],
   "source": [
    "import random\n",
    "v1 = 30\n",
    "v2 = 40\n",
    "v3 = 50\n",
    "\n",
    "def apply_perc(value,vnf):\n",
    "    return \n",
    "def create_R(work,avg,type,tot):\n",
    "    reqs = []\n",
    "    for i in range(work):\n",
    "        w1 = tot-((random.randrange(1, v1) * tot) / 100)\n",
    "        if(type==0):\n",
    "            reqs.append([avg,w1])  \n",
    "        if(type==1):\n",
    "            w2 = w1-((random.randrange(v1+1, v2) * w1) / 100)\n",
    "            reqs.append([avg,w1,w2])  \n",
    "        if(type==2):\n",
    "            w2 = w1-((random.randrange(v1+1, v2) * w1) / 100)\n",
    "            print(((random.randrange(v2+1, v3) * w2) / 100))\n",
    "            w3 = w2-((random.randrange(v2+1, v3) * w2) / 100)\n",
    "            reqs.append([avg,w1,w2,w3])\n",
    "    return reqs\n",
    "for i in range(len(qgis_th)):\n",
    "    sum = qgis_th.iloc[i][\"work_1\"]+qgis_th.iloc[i][\"work_1\"]+qgis_th.iloc[i][\"work_1\"]\n",
    "    avg = qgis_th.iloc[i][\"Mb/s\"]/sum\n",
    "    reqs = create_R(qgis_th.iloc[i][\"work_1\"],avg,0,) + create_R(qgis_th.iloc[i][\"work_2\"],avg,1) + create_R(qgis_th.iloc[i][\"work_3\"],avg,2)\n",
    "    print(reqs)\n",
    "    print(len(reqs))\n",
    "    break"
   ]
  },
  {
   "cell_type": "code",
   "execution_count": 7,
   "metadata": {},
   "outputs": [
    {
     "name": "stdout",
     "output_type": "stream",
     "text": [
      "users                           1\n",
      "work_1                          0\n",
      "work_2                          6\n",
      "work_3                          2\n",
      "center_lat                40.0866\n",
      "center_lon                117.064\n",
      "row                            61\n",
      "col                             4\n",
      "date          2009-02-20 10:00:00\n",
      "total                         500\n",
      "Name: 383, dtype: object\n",
      "users                           1\n",
      "work_1                         24\n",
      "work_2                         42\n",
      "work_3                         36\n",
      "center_lat                39.9736\n",
      "center_lon                 116.34\n",
      "row                            49\n",
      "col                            66\n",
      "date          2009-06-06 21:00:00\n",
      "total                        5940\n",
      "Name: 48121, dtype: object\n"
     ]
    }
   ],
   "source": [
    "column = qgis_th[\"total\"].values\n",
    "min = np.argmin(column)\n",
    "max = np.argmax(column)\n",
    "print(qgis_th.iloc[min])\n",
    "print(qgis_th.iloc[max])"
   ]
  },
  {
   "cell_type": "code",
   "execution_count": 24,
   "metadata": {},
   "outputs": [],
   "source": [
    "qgis_th.to_csv(\"../dataset/qgis_work_1h_500Mb.csv\")"
   ]
  }
 ],
 "metadata": {
  "kernelspec": {
   "display_name": "skmob",
   "language": "python",
   "name": "skmob"
  },
  "language_info": {
   "codemirror_mode": {
    "name": "ipython",
    "version": 3
   },
   "file_extension": ".py",
   "mimetype": "text/x-python",
   "name": "python",
   "nbconvert_exporter": "python",
   "pygments_lexer": "ipython3",
   "version": "3.7.0"
  },
  "orig_nbformat": 4,
  "vscode": {
   "interpreter": {
    "hash": "15c769815ae53560f7f79e5a9c8eee5a403468325b70bba4113367e2d11be02b"
   }
  }
 },
 "nbformat": 4,
 "nbformat_minor": 2
}
