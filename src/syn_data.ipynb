{
 "cells": [
  {
   "cell_type": "code",
   "execution_count": 1,
   "metadata": {},
   "outputs": [],
   "source": [
    "import pandas as pd\n",
    "import numpy as np\n",
    "import os\n",
    "import random\n",
    "from datetime import datetime, timedelta\n",
    "import yaml"
   ]
  },
  {
   "cell_type": "code",
   "execution_count": 2,
   "metadata": {},
   "outputs": [
    {
     "name": "stdout",
     "output_type": "stream",
     "text": [
      "['#centralized model\\n', 'dpi: 800\\n', 'node_size: 100\\n', 'find_min_drones: True\\n', 'minmax: \"minimize\"\\n', '#Nokia Flexi Multiradio 10 System Module - Interface OBSAI RP3-01 provide up to 6.144 Gbps of bandwidth for high-speed data transfer.\\n', '#https://www.mti-mobile.com/wp-content/uploads/2012/10/6Gbit_OBSAI_Demonstration.pdf\\n', '#https://cosconor.fr/GSM/Divers/Equipment/Nokia/Airscale%20system%20module%20product%20description.pdf (pagina 36 - rf1..6)\\n', 'Max_Capacity_BS: 34000 #Mbps (6 Gbps)\\n', 'Workloads_rs: [[[500.0, 475.0], [500.0, 435.0], [500.0, 415.0], [500.0, 425.0], [500.0, 465.0], [500.0, 405.0], [500.0, 495.0], [500.0, 410.0], [500.0, 440.0], [500.0, 490.0], [500.0, 470.0], [500.0, 475.0], [500.0, 475.0], [500.0, 475.0], [500.0, 470.0], [500.0, 490.0], [500.0, 445.0], [500.0, 405.0], [500.0, 425.0], [500.0, 415.0], [500.0, 475.0], [500.0, 485.0], [500.0, 435.0], [500.0, 405.0], [500.0, 430.0], [500.0, 490.0], [500.0, 435.0], [500.0, 405.0], [500.0, 450.0], [500.0, 470.0], [500.0, 425.0], [500.0, 420.0], [500.0, 410.0], [500.0, 490.0], [500.0, 410.0], [500.0, 445.0], [500.0, 490.0], [500.0, 435.0], [500.0, 485.0], [500.0, 480.0], [500.0, 415.0], [500.0, 445.0], [500.0, 470.0], [500.0, 405.0], [500.0, 435.0], [500.0, 490.0], [500.0, 455.0], [500.0, 490.0], [500.0, 425.0], [500.0, 480.0], [500.0, 485.0, 339.5], [500.0, 465.0, 330.15], [500.0, 465.0, 306.9], [500.0, 455.0, 323.05], [500.0, 410.0, 282.9], [500.0, 440.0, 299.2], [500.0, 445.0, 298.15], [500.0, 425.0, 318.75], [500.0, 415.0, 265.6], [500.0, 430.0, 305.3], [500.0, 420.0, 306.6], [500.0, 425.0, 310.25], [500.0, 415.0, 319.55], [500.0, 435.0, 291.45], [500.0, 465.0, 330.15], [500.0, 460.0, 326.6], [500.0, 445.0, 315.95], [500.0, 485.0, 329.8], [500.0, 405.0, 311.85], [500.0, 405.0, 255.15], [500.0, 475.0, 323.0], [500.0, 410.0, 282.9], [500.0, 455.0, 291.2], [500.0, 440.0, 321.2], [500.0, 475.0, 294.5], [500.0, 420.0, 306.6, 168.63], [500.0, 405.0, 299.7, 140.859], [500.0, 455.0, 359.45, 176.13049999999998], [500.0, 455.0, 345.8, 165.98399999999998], [500.0, 445.0, 271.45, 135.725], [500.0, 450.0, 306.0, 143.82], [500.0, 425.0, 306.0, 156.06], [500.0, 445.0, 311.5, 180.67], [500.0, 480.0, 326.4, 192.576], [500.0, 405.0, 299.7, 149.85], [500.0, 490.0, 362.6, 203.056], [500.0, 410.0, 270.6, 143.418], [500.0, 475.0, 313.5, 166.155], [500.0, 455.0, 286.65, 140.4585], [500.0, 450.0, 301.5, 138.69], [500.0, 470.0, 329.0, 194.11], [500.0, 460.0, 354.2, 162.932], [500.0, 435.0, 304.5, 164.43], [500.0, 475.0, 365.75, 175.56], [500.0, 490.0, 343.0, 171.5], [500.0, 460.0, 349.6, 199.27200000000002], [500.0, 445.0, 315.95, 186.4105], [500.0, 485.0, 383.15, 203.06949999999998], [500.0, 445.0, 284.8, 162.336], [500.0, 470.0, 361.9, 199.045]]]\\n', '\\n', '\\n', '\\n', '\\n', '\\n', '\\n', '\\n', '\\n', '\\n', '\\n', '\\n', '\\n', '\\n', '\\n', '\\n', '\\n', '\\n', '\\n', '\\n', '\\n', '\\n', '\\n', '\\n', '\\n', '\\n', '\\n', '\\n', '\\n', '\\n', '\\n', '\\n', '\\n', '\\n', '\\n', '\\n', '\\n', '\\n', '\\n', '\\n', '\\n', '\\n', '#Ideal drone (do not exists a drone that takes in input data load, only trasmission or commands.)\\n', '\\n', 'Capacity_CPU_d: [ 4000,]  #Mbps \\n', 'Capacity_Radio_d: [2000,] #Mbps\\n', '\\n', '#\"Empirical Power Consumption Model for UAVs - OPUS at UTS\" power consumption values in watts for various flight scenarios of a small quadrotor UAV\\n', '\\n', '#The power consumption during hover was found to be in the range of approximately 100-500 watts for the configurations tested.\\n', '#The power consumption during forward flight at a speed of 5 m/s varied between approximately 200-300 watts, depending on the payload weight and battery type.\\n', '#The power consumption during ascent at a rate of 1 m/s varied between approximately 200-400 watts, depending on the payload weight and battery type.\\n', '#The power consumption during descent at a rate of 1 m/s varied between approximately 150-300 watts, depending on the payload weight and battery type.\\n', 'InstPowerVolo: [100,]\\n', '#Empirical Power Consumption Model for UAVs\" by S. Khan et al. (2016) \\n', '#Power consumption:  UAV 8.2412, 8.2618W watts #Intel Aero Ready to Fly\\n', 'Cost_Radio_d: [  8 , ] \\n', 'Cost_CPU_d: [ 8.5,] \\n', '\\n', 'Cost_CPU_d_idle: [2.83,]\\n', 'Cost_Radio_d_idle: [2.66,] \\n', '#mAh X voltage x 3.6 = Joules of energy \\n', 'BJ: [ 277200]\\n', '\\n', '#mAh = (Joules / Voltage) * 1000\\n', 'CA: [5544] #(416 mAh,3.7V)\\n', 'CB: [5544]']\n"
     ]
    }
   ],
   "source": [
    "import sys\n",
    "def add_row(df,element):\n",
    "    df = pd.concat([df,pd.DataFrame.from_records([element])])\n",
    "    return df\n",
    "\n",
    "lines=[]\n",
    "skip_lines=0\n",
    "lines=[]\n",
    "with open('conf_project.yaml') as infile:\n",
    "    lines=infile.readlines()\n",
    "print(lines)\n"
   ]
  },
  {
   "cell_type": "code",
   "execution_count": 3,
   "metadata": {},
   "outputs": [],
   "source": [
    "starting_date = \"04/05/2023\"\n",
    "def generate_df(users,starting_hours,hours_per_day,work):\n",
    "        df = pd.DataFrame(columns = ['users', 'work_1', 'work_2', 'work_3', 'date','total'])\n",
    "        step=0\n",
    "        entered=False\n",
    "        hours_per_day=hours_per_day%24\n",
    "        for i in range(hours_per_day+1):\n",
    "            work_now = users[i][0]*users[i][1]\n",
    "            tot_req=work[i][0]+work[i][1]+work[i][2]\n",
    "            print(work_now,(users[i][0],users[i][1]),tot_req,work_now/tot_req)\n",
    "            try:\n",
    "                if(entered):\n",
    "                    date=datetime.strptime(starting_date+\" \"+str(starting_hours+step),\" %d/%m/%Y %H\") +timedelta(1)\n",
    "                    append={\"users\": users[i][0],'work_1':work[i][0], 'work_2':work[i][1], 'work_3':work[i][2], 'date':date,'total':work_now/tot_req}\n",
    "                    df = add_row(df,append)\n",
    "                    step+=1\n",
    "                else:\n",
    "                    date=datetime.strptime(starting_date+\" \"+str(starting_hours+i), \"%d/%m/%Y %H\")\n",
    "                    append={\"users\": users[i][0],'work_1':work[i][0], 'work_2':work[i][1], 'work_3':work[i][2], 'date':date,'total':work_now/tot_req}\n",
    "                    df = add_row(df,append)\n",
    "            except:\n",
    "                starting_hours = 0\n",
    "                if(not entered):\n",
    "                    print(users[i][0],work[i][0],work[i][1],work[i][2],date,work_now,tot_req)\n",
    "                    date=datetime.strptime(starting_date+\" \"+str(starting_hours+step), \"%d/%m/%Y %H\") +timedelta(1)\n",
    "                    append={\"users\": users[i][0],'work_1':work[i][0], 'work_2':work[i][1], 'work_3':work[i][2], 'date':date}\n",
    "                    df = add_row(df,append)\n",
    "                    step=1\n",
    "                    entered=True\n",
    "        v1 = 20\n",
    "        v2 = 40\n",
    "        v3 = 55\n",
    "        def create_R(work,avg,type):\n",
    "            reqs = []\n",
    "            tot=avg\n",
    "            for i in range(work):\n",
    "                w1 = tot-((random.randrange(1, v1) * tot) / 100)\n",
    "                if(type==0):\n",
    "                    reqs.append([avg,w1])  \n",
    "                if(type==1):\n",
    "                    w2 = w1-((random.randrange(v1+1, v2) * w1) / 100)\n",
    "                    reqs.append([avg,w1,w2])  \n",
    "                if(type==2):\n",
    "                    w2 = w1-((random.randrange(v1+1, v2) * w1) / 100)\n",
    "                    w3 = w2-((random.randrange(v2+1, v3) * w2) / 100)\n",
    "                    reqs.append([avg,w1,w2,w3])\n",
    "            return reqs,\n",
    "    \n",
    "        Workloads_rs=[]\n",
    "        for i in range(len(df)):\n",
    "            avg = df.iloc[i][\"total\"]\n",
    "            reqs = create_R(df.iloc[i][\"work_1\"],avg,0) + create_R(df.iloc[i][\"work_2\"],avg,1) + create_R(df.iloc[i][\"work_3\"],avg,2)\n",
    "            Workloads_rs.append(reqs)\n",
    "        tot=sum([sum(x[:-1]) for x in Workloads_rs[0][0]]) + sum([sum(x[:-1]) for x in Workloads_rs[0][1]]) + sum([sum(x[:-1]) for x in Workloads_rs[0][2]])\n",
    "        \n",
    "        return df, Workloads_rs[0][0]+Workloads_rs[0][1]+Workloads_rs[0][2],tot"
   ]
  },
  {
   "cell_type": "code",
   "execution_count": 4,
   "metadata": {},
   "outputs": [
    {
     "name": "stdout",
     "output_type": "stream",
     "text": [
      "50000 (10000, 5) 100 500.0\n"
     ]
    }
   ],
   "source": [
    "#set hours_per_day always to 0.\n",
    "res, work, tot=generate_df(users=[(10000,5)],starting_hours=15, hours_per_day=0, work=[(50,25,25)])\n",
    "\n",
    "\n",
    "\n",
    "with open(\"./conf_project.yaml\",\"w\") as f:\n",
    "    for line in lines:\n",
    "        \n",
    "        if(\"Workloads_rs: [\" in line):\n",
    "            \n",
    "            f.write(\"Workloads_rs: [\"+str(work)+\"]\\n\\n\")\n",
    "        else:\n",
    "            f.write(line)\n"
   ]
  }
 ],
 "metadata": {
  "kernelspec": {
   "display_name": "skmob",
   "language": "python",
   "name": "python3"
  },
  "language_info": {
   "codemirror_mode": {
    "name": "ipython",
    "version": 3
   },
   "file_extension": ".py",
   "mimetype": "text/x-python",
   "name": "python",
   "nbconvert_exporter": "python",
   "pygments_lexer": "ipython3",
   "version": "3.7.12"
  },
  "orig_nbformat": 4
 },
 "nbformat": 4,
 "nbformat_minor": 2
}
