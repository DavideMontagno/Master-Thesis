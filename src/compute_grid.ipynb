{
 "cells": [
  {
   "cell_type": "code",
   "execution_count": 12,
   "metadata": {},
   "outputs": [],
   "source": [
    "import skmob\n",
    "import pandas as pd\n",
    "from skmob.preprocessing import filtering,  detection, clustering\n",
    "from skmob.measures.individual import location_frequency\n",
    "from skmob.measures.collective import mean_square_displacement, visits_per_location\n",
    "import os\n",
    "import matplotlib.pyplot as plt\n",
    "from shapely.geometry import Point\n",
    "from pyproj import Transformer\n",
    "from shapely.ops import transform\n",
    "import numpy as np\n",
    "from math import sin, cos, sqrt, atan2, radians, floor, ceil, sqrt\n",
    "import geopy as geo"
   ]
  },
  {
   "cell_type": "code",
   "execution_count": 21,
   "metadata": {},
   "outputs": [],
   "source": [
    "#GLOBAL VARIABLE AND FUNCTION\n",
    "dim_cell_m=1\n",
    "freq='1h'\n",
    "users=[]\n",
    "#ADD ROW FOR DEBUG USER INSIDE CELLS\n",
    "def add_row(df,element):\n",
    "    df = pd.concat([df, pd.DataFrame.from_records([element])])\n",
    "    return df\n",
    "    \n",
    "\n",
    "#READ DATASET\n",
    "def read_dataset():\n",
    "    #url = skmob.utils.constants.GEOLIFE_SAMPLE\n",
    "    df = pd.read_csv(\"../dataset/geolife_example.csv\", sep=',')\n",
    "    users = df[\"uid\"].unique()\n",
    "    return df"
   ]
  },
  {
   "cell_type": "code",
   "execution_count": 17,
   "metadata": {},
   "outputs": [
    {
     "name": "stdout",
     "output_type": "stream",
     "text": [
      "         lat         lon   uid    tid                   date_time  index\n",
      "0  40.030941  116.341601  3000  18670  2009-10-30 03:47:00.801167      0\n"
     ]
    }
   ],
   "source": [
    "\n",
    "\n",
    "df = read_dataset()\n",
    "### GEOLIFE DATASET ANALYSIS\n",
    "for i in range(0,3):\n",
    "    df = add_row(df,{'lat':  40.071316361318885 , 'lon': 117.0547972535935, 'uid': 100, 'tid': 18000, 'date_time': '2009-05-08 07:46:19.770112'})\n",
    "\n",
    "tdf = skmob.TrajDataFrame(df, latitude='lat', longitude='lon', user_id='user', datetime='date_time')\n",
    "\n",
    "df[\"index\"] = df.index\n",
    "print(df.head(1))\n"
   ]
  },
  {
   "cell_type": "code",
   "execution_count": 18,
   "metadata": {},
   "outputs": [
    {
     "name": "stdout",
     "output_type": "stream",
     "text": [
      "(769054, 6)\n",
      "(769054, 7)\n",
      "(631559, 6)\n"
     ]
    }
   ],
   "source": [
    "from datetime import datetime\n",
    "import matplotlib.pyplot as plt\n",
    "df = read_dataset()\n",
    "\n",
    "\n",
    "df[\"index\"] = df.index\n",
    "print(df.shape)\n",
    "df[\"date\"] = df[\"date_time\"].apply(lambda row: row.split(\" \")[0])\n",
    "\n",
    "df['date'] = pd.to_datetime(df['date'], format = \"%Y-%m-%d\" )\n",
    "\n",
    "mask = ((df['date'] > pd.to_datetime(\"2008-07-01\",format = \"%Y-%m-%d\" )) & (df['date'] <= pd.to_datetime(\"2009-09-30\",format = \"%Y-%m-%d\" )  ) ) \n",
    "print(df.shape)\n",
    "df = df.loc[mask]\n",
    "df = df.drop(columns=['date'])\n",
    "print(df.shape)\n"
   ]
  },
  {
   "cell_type": "code",
   "execution_count": 19,
   "metadata": {},
   "outputs": [
    {
     "name": "stdout",
     "output_type": "stream",
     "text": [
      "(40.307909499999994, 117.1137114) (40.307909499999994, 115.74167620000001)\n",
      "(39.53285629999999, 117.1137114) (39.53285629999999, 115.74167620000001)\n"
     ]
    }
   ],
   "source": [
    "### TAKE BORDER COORDINATION OF THE REGION\n",
    "\n",
    "unique_coordinates = tdf[[\"lat\",\"lng\"]].drop_duplicates()\n",
    "\n",
    "min_lat, max_lat = min(unique_coordinates[\"lat\"]),max(unique_coordinates[\"lat\"])\n",
    "min_lon, max_lon = min(unique_coordinates[\"lng\"]),max(unique_coordinates[\"lng\"])\n",
    "\n",
    "top_left = (max_lat,max_lon)\n",
    "top_right = (max_lat,min_lon)\n",
    "bottom_left = (min_lat,max_lon)\n",
    "bottom_right = (min_lat,min_lon)\n",
    "\n",
    "print(top_left,top_right)\n",
    "print(bottom_left,bottom_right)"
   ]
  },
  {
   "cell_type": "code",
   "execution_count": 25,
   "metadata": {},
   "outputs": [
    {
     "name": "stdout",
     "output_type": "stream",
     "text": [
      "Max distance considering latitude 86.20903818006724\n",
      "86.0565641834225\n",
      "Max longitude considering longitude 117.70176427180961\n",
      "117.9567132965088\n",
      "Total area region (m^2):  10146.95588996971\n",
      "Each cell as dimension\n",
      "1.95465317293411 1.9665836170057016\n",
      "#Cell lat (rows), #Cell lon (columns)\n",
      "44 59\n"
     ]
    }
   ],
   "source": [
    "import geopy.distance\n",
    "dim_cell_m=2\n",
    "R = 6373.0\n",
    "\n",
    "lat1 = radians(max_lat)\n",
    "lat2 = radians(min_lat)\n",
    "lon1 = radians(max_lon)\n",
    "lon2 = radians(max_lon)\n",
    "\n",
    "dlon = lon2 - lon1\n",
    "dlat = lat2 - lat1\n",
    "\n",
    "\n",
    "a = sin(dlat / 2)**2 + cos(lat1) * cos(lat2) * sin(dlon / 2)**2\n",
    "c = 2 * atan2(sqrt(a), sqrt(1 - a))\n",
    "\n",
    "distance = R * c\n",
    "\n",
    "\n",
    "height = distance \n",
    "print(\"Max distance considering latitude\", height)\n",
    "print(geo.distance.distance((min_lat,min_lon),(max_lat,min_lon)).km)\n",
    "\n",
    "\n",
    "lat1 = radians(min_lat)\n",
    "lon1 = radians(min_lon)\n",
    "lat2 = radians(min_lat)\n",
    "lon2 = radians(max_lon)\n",
    "\n",
    "dlon = lon2 - lon1\n",
    "dlat = lat2 - lat1\n",
    "\n",
    "a = sin(dlat / 2)**2 + cos(lat1) * cos(lat2) * sin(dlon / 2)**2\n",
    "c = 2 * atan2(sqrt(a), sqrt(1 - a))\n",
    "\n",
    "distance = R * c\n",
    "\n",
    "\n",
    "\n",
    "coords_1 = (lat1, lon1)\n",
    "coords_2 = (lat2, lon2)\n",
    "\n",
    "\n",
    "\n",
    "length = distance \n",
    "print(\"Max longitude considering longitude\", length)\n",
    "print(geo.distance.distance((min_lat,min_lon),(min_lat,max_lon)).km)\n",
    "print(\"Total area region (m^2): \",height*length)\n",
    "\n",
    "cells_lat = height/dim_cell_m + 1\n",
    "cells_lon= length/dim_cell_m + 1\n",
    "print(\"Each cell as dimension\")\n",
    "print(height/cells_lat,length/cells_lon)\n",
    "print(\"#Cell lat (rows), #Cell lon (columns)\")\n",
    "print(floor(cells_lat),floor(cells_lon))\n",
    "\n"
   ]
  },
  {
   "cell_type": "code",
   "execution_count": 26,
   "metadata": {},
   "outputs": [
    {
     "name": "stdout",
     "output_type": "stream",
     "text": [
      "(40.307909499999994, 117.1137114) (40.307909499999994, 115.74167620000001)\n",
      "(39.53285629999999, 117.1137114) (39.53285629999999, 115.74167620000001)\n",
      "44 59\n",
      "100000\n",
      "200000\n",
      "300000\n",
      "400000\n",
      "700000\n",
      "100000\n",
      "200000\n",
      "300000\n",
      "400000\n",
      "700000\n"
     ]
    }
   ],
   "source": [
    "print(top_left, top_right)\n",
    "print(bottom_left,bottom_right)\n",
    "print(floor(cells_lat),floor(cells_lon))\n",
    "\n",
    "\n",
    "cols = np.linspace(bottom_left[1], bottom_right[1], num=floor(cells_lon))\n",
    "rows = np.linspace(bottom_left[0], top_left[0], num=floor(cells_lat))\n",
    "diff=0\n",
    "i=0\n",
    "R = 6373.0\n",
    "df_grid = df\n",
    "\n",
    "df_grid[\"col\"] = df[\"lon\"]\n",
    "def calc_col(row):\n",
    "    tmp = []\n",
    "    if((row[\"index\"]%100000)==0):\n",
    "        print(row[\"index\"])\n",
    "    for col in cols:\n",
    "        \n",
    "\n",
    "\n",
    "            lat1 = radians(row[\"lat\"])\n",
    "            lon1 = radians(col)\n",
    "            lat2 = radians(row[\"lat\"])\n",
    "            lon2 = radians(row[\"lon\"])\n",
    "            coords_1 = (lat1, lon1)\n",
    "            coords_2 = (lat2, lon2)\n",
    "            distance = geopy.distance.geodesic(coords_1, coords_2).km\n",
    "          \n",
    "            tmp.append(distance)\n",
    "    return np.argmin(tmp)\n",
    "\n",
    "def calc_row(row_):\n",
    "    tmp = []\n",
    "    if((row_[\"index\"]%100000)==0):\n",
    "        print(row_[\"index\"])\n",
    "    for row in rows:\n",
    "            lat1 = radians(row)\n",
    "            lon1 = radians(row_[\"lon\"])\n",
    "            lat2 = radians(row_[\"lat\"])\n",
    "            lon2 = radians(row_[\"lon\"])\n",
    "            coords_1 = (lat1, lon1)\n",
    "            coords_2 = (lat2, lon2)\n",
    "            distance = geopy.distance.geodesic(coords_1, coords_2).km\n",
    "          \n",
    "            tmp.append(distance)\n",
    "    return np.argmin(tmp)\n",
    "\n",
    "\n",
    "\n",
    "df_grid[\"col\"]= df_grid.apply(calc_col, axis=1)\n",
    "df_grid['row'] = df_grid.apply(calc_row, axis=1)"
   ]
  },
  {
   "cell_type": "code",
   "execution_count": 29,
   "metadata": {},
   "outputs": [
    {
     "name": "stdout",
     "output_type": "stream",
     "text": [
      "44 59\n"
     ]
    }
   ],
   "source": [
    "print(len(df_grid[\"row\"].unique()),len(df_grid[\"col\"].unique()))"
   ]
  },
  {
   "cell_type": "code",
   "execution_count": 30,
   "metadata": {},
   "outputs": [
    {
     "name": "stdout",
     "output_type": "stream",
     "text": [
      "generated..\n",
      "{0: 215120, 1: 207283, 2: 209156}\n"
     ]
    }
   ],
   "source": [
    "import numpy as np\n",
    "import random\n",
    "value = {0:0,1:0,2:0}\n",
    "p=[0.34, 0.33,0.33] # big_work, #medium_work, #small_work\n",
    "workload = []\n",
    "while True:\n",
    "    workload = []\n",
    "    for i in range(len(df)):\n",
    "    #creates one number out of 0 or 1 with prob p 0.5 for 0 and 0.5 for 1\n",
    "        test = np.random.choice(np.arange(0, 3), p=p)\n",
    "        workload.append(test)\n",
    "        value[test]+=1\n",
    "    print(\"generated..\")\n",
    "    check=False\n",
    "    for i in range(len(value)):\n",
    "        if( ((round(value[i]/len(df),2)*100)/100 )!=p[i]):\n",
    "            print(value[i]/len(df))\n",
    "            check=True\n",
    "            break\n",
    "    if(check==False):\n",
    "        break\n",
    "    else:\n",
    "        value = {0:0,1:0,2:0}\n",
    "print(value)\n",
    "df_work = df_grid\n",
    "df_work[\"work\"] = workload\n",
    "df_work.to_csv(\"../dataset/proc_geolife_tot_\"+str(dim_cell_m)+\"_m.csv\")"
   ]
  },
  {
   "cell_type": "code",
   "execution_count": 32,
   "metadata": {},
   "outputs": [
    {
     "name": "stdout",
     "output_type": "stream",
     "text": [
      "(37661, 9)\n",
      "   users  work_1  work_2  work_3  center_lat  center_lon  row  col  \\\n",
      "0      1       2       3       4   40.079001  117.102987   30    0   \n",
      "\n",
      "                 date  \n",
      "0 2008-07-20 19:00:00  \n"
     ]
    }
   ],
   "source": [
    "import datetime\n",
    "df_work = pd.read_csv(\"../dataset/proc_geolife_tot_\"+str(dim_cell_m)+\"_m.csv\")\n",
    "qgis = pd.DataFrame()\n",
    "# ADDING ROW FOR DEBUG \n",
    "# for i in range(0,3):\n",
    "#     df_work = add_row(df_work,{'lat':  40.19918568222689 , 'lon': 40.19723074921124, 'uid': 100, 'tid': 18000, 'date_time': '2008-07-01 09:00:00', 'col':0.0, 'row':148, 'work':2})\n",
    "\n",
    "\n",
    " \n",
    "\n",
    "def count_work_per_cell_and_time(df_cell):\n",
    "    df_final = pd.DataFrame()\n",
    "    for group_id, group_df in df_cell.groupby([\"col\",\"row\"]):\n",
    "        group_df[\"date_hour\"] = pd.to_datetime(group_df['date_time'], format = \"%Y-%m-%d %H:%M:%S\" ).astype('datetime64[s]') #%Y-%m-%d %H:%M:%S / datetime64[h/m/s]\n",
    "        \n",
    "        #row = {'lats':0,'lons':0,'uids':0,'small':0,'big':0,'row':0,'col':0,'date':\"\", 'work':0}\n",
    "        for group_id2, group_date in group_df.groupby(pd.Grouper(key='date_hour', freq='1h')):\n",
    "                if(len(group_date)>=1):\n",
    "                    date = pd.to_datetime(group_date[\"date_time\"], format = \"%Y-%m-%d %H\" ).astype('datetime64[h]').unique()[0]\n",
    "                   \n",
    "                    \n",
    "                    works = [0,0,0]\n",
    "                    for _,group_work in group_date.groupby(\"work\"):\n",
    "                          works[group_work[\"work\"].unique()[0]] = group_work[\"work\"].count()\n",
    "                    medoids = group_date[[\"lat\",\"lon\"]].mean(axis=0)\n",
    "                    row=group_date[\"row\"].unique()[0]\n",
    "                    col=group_date[\"col\"].unique()[0]\n",
    "                    df_final = add_row(df_final,\n",
    "                    {\n",
    "                         'users': len(group_date[\"uid\"].unique()),\n",
    "                         'work_1': works[0],'work_2': works[1],'work_3': works[2],\n",
    "                         \"center_lat\": medoids[\"lat\"], \"center_lon\": medoids[\"lon\"],'row':row,'col':col,\n",
    "                         'date': date,\n",
    "                    \n",
    "                                        \n",
    "                    })\n",
    "                    \n",
    "           \n",
    "    return df_final\n",
    "\n",
    "# df_without_date = count_work_per_cell(df_work)\n",
    "# print(df_without_date)\n",
    "df_date = count_work_per_cell_and_time(df_work)\n",
    "print(df_date.shape)\n",
    "print(df_date.head(1))\n",
    "df_date.to_csv(\"../dataset/qgis_\"+str(dim_cell_m)+\"_\"+freq+\".csv\")"
   ]
  }
 ],
 "metadata": {
  "kernelspec": {
   "display_name": "skmob",
   "language": "python",
   "name": "skmob"
  },
  "orig_nbformat": 4,
  "vscode": {
   "interpreter": {
    "hash": "15c769815ae53560f7f79e5a9c8eee5a403468325b70bba4113367e2d11be02b"
   }
  }
 },
 "nbformat": 4,
 "nbformat_minor": 2
}
